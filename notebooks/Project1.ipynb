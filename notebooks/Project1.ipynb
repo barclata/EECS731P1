{
 "cells": [
  {
   "cell_type": "code",
   "execution_count": 1,
   "metadata": {},
   "outputs": [],
   "source": [
    "import numpy as np\n",
    "import pandas as pd"
   ]
  },
  {
   "cell_type": "markdown",
   "metadata": {},
   "source": [
    "# Project 1"
   ]
  },
  {
   "cell_type": "markdown",
   "metadata": {},
   "source": [
    "## Data\n",
    "\n",
    "I'm using data from two sources. The first is FiveThirtyEight's [Food World Cup](https://fivethirtyeight.com/features/the-fivethirtyeight-international-food-associations-2014-world-cup/). The second is a the World Bank's most popular [World Development Indicators](https://databank.worldbank.org/indicator/NY.GDP.MKTP.CD/1ff4a498/Popular-Indicators). \n"
   ]
  },
  {
   "cell_type": "code",
   "execution_count": 44,
   "metadata": {},
   "outputs": [],
   "source": [
    "foodwc = pd.read_csv('data/processed/food-world-cup-data2.csv')\n",
    "worldbankdata = pd.read_csv('data/processed/world_bank_data.csv')\n"
   ]
  },
  {
   "cell_type": "markdown",
   "metadata": {},
   "source": [
    "Looking at the Food World Cup (FWC) data, we see that it indexes on an identifier for respondents to the surveys used by FiveThirtyEight. The other columns are the rating each respondent (Americans  in this case) has for each country's cuisine, and some ancillary data about the respondent's interest in cuisines, income, age, etc. "
   ]
  },
  {
   "cell_type": "code",
   "execution_count": 45,
   "metadata": {},
   "outputs": [
    {
     "data": {
      "text/plain": [
       "Index(['RespondentID',\n",
       "       'Generally speaking, how would you rate your level of knowledgeof cuisines from different parts of the world?',\n",
       "       'How much, if at all, are you interested in cuisines from different parts of the world?',\n",
       "       'Please rate how much you like the traditional cuisine of Algeria:',\n",
       "       'Please rate how much you like the traditional cuisine of Argentina.',\n",
       "       'Please rate how much you like the traditional cuisine ofAustralia.',\n",
       "       'Please rate how much you like the traditional cuisine of Belgium.',\n",
       "       'Please rate how much you like the traditional cuisine of Bosnia and Herzegovina.',\n",
       "       'Please rate how much you like the traditional cuisine of Brazil.',\n",
       "       'Please rate how much you like the traditional cuisine of Cameroon.',\n",
       "       'Please rate how much you like the traditional cuisine of Chile.',\n",
       "       'Please rate how much you like the traditional cuisine of Colombia.',\n",
       "       'Please rate how much you like the traditional cuisine of Costa Rica.',\n",
       "       'Please rate how much you like the traditional cuisine of Croatia.',\n",
       "       'Please rate how much you like the traditional cuisine of Ecuador.',\n",
       "       'Please rate how much you like the traditional cuisine of England.',\n",
       "       'Please rate how much you like the traditional cuisine of France.',\n",
       "       'Please rate how much you like the traditional cuisine of Germany.',\n",
       "       'Please rate how much you like the traditional cuisine of Ghana.',\n",
       "       'Please rate how much you like the traditional cuisine of Greece.',\n",
       "       'Please rate how much you like the traditional cuisine of Honduras.',\n",
       "       'Please rate how much you like the traditional cuisine of Iran.',\n",
       "       'Please rate how much you like the traditional cuisine of Italy.',\n",
       "       'Please rate how much you like the traditional cuisine of Ivory Coast.',\n",
       "       'Please rate how much you like the traditional cuisine of Japan.',\n",
       "       'Please rate how much you like the traditional cuisine of Mexico.',\n",
       "       'Please rate how much you like the traditional cuisine of the Netherlands.',\n",
       "       'Please rate how much you like the traditional cuisine of Nigeria.',\n",
       "       'Please rate how much you like the traditional cuisine of Portugal.',\n",
       "       'Please rate how much you like the traditional cuisine of Russia.',\n",
       "       'Please rate how much you like the traditional cuisine of South Korea.',\n",
       "       'Please rate how much you like the traditional cuisine of Spain.',\n",
       "       'Please rate how much you like the traditional cuisine of Switzerland.',\n",
       "       'Please rate how much you like the traditional cuisine of United States.',\n",
       "       'Please rate how much you like the traditional cuisine of Uruguay.',\n",
       "       'Please rate how much you like the traditional cuisine of China.',\n",
       "       'Please rate how much you like the traditional cuisine of India.',\n",
       "       'Please rate how much you like the traditional cuisine of Thailand.',\n",
       "       'Please rate how much you like the traditional cuisine of Turkey.',\n",
       "       'Please rate how much you like the traditional cuisine of Cuba.',\n",
       "       'Please rate how much you like the traditional cuisine of Ethiopia.',\n",
       "       'Please rate how much you like the traditional cuisine of Vietnam.',\n",
       "       'Please rate how much you like the traditional cuisine of Ireland.',\n",
       "       'Gender', 'Age', 'Household Income', 'Education',\n",
       "       'Location (Census Region)'],\n",
       "      dtype='object')"
      ]
     },
     "execution_count": 45,
     "metadata": {},
     "output_type": "execute_result"
    }
   ],
   "source": [
    "foodwc.columns"
   ]
  },
  {
   "cell_type": "markdown",
   "metadata": {},
   "source": [
    "We can see that the countries' rating columns are in the form of a statement. We want to remove the statement to leave us with only the country name. We can also simplify some of the longer column names. We also had some problems with encoding the original data into utf-8 and some spaces are missing in columns 1 and 5, but we can program around this. "
   ]
  },
  {
   "cell_type": "code",
   "execution_count": 46,
   "metadata": {},
   "outputs": [],
   "source": [
    "prefix = 'Please rate how much you like the traditional cuisine of'\n",
    "prefix_len = len(prefix)\n",
    "\n",
    "new_columns = []\n",
    "\n",
    "for col in foodwc.columns:\n",
    "    if col.startswith(prefix):\n",
    "        new_columns.append(col[prefix_len:-1].strip())\n",
    "    else:\n",
    "        new_columns.append(col)\n",
    "        \n",
    "new_columns\n",
    "\n",
    "new_columns[1] = 'Cuisine Knowledge'\n",
    "new_columns[2] = 'Cuisine Interest'\n",
    "new_columns[-1] = 'Locations'\n",
    "new_columns[26] = 'Netherlands'"
   ]
  },
  {
   "cell_type": "markdown",
   "metadata": {},
   "source": [
    "One thing to note is that the World Bank Data refers to 'the Netherlands' as simply 'Netherlands' so we make that change here as well."
   ]
  },
  {
   "cell_type": "code",
   "execution_count": 47,
   "metadata": {},
   "outputs": [],
   "source": [
    "foodwc.columns = new_columns"
   ]
  },
  {
   "cell_type": "markdown",
   "metadata": {},
   "source": [
    "The data from the World Bank is much more complex. The 'Series Name' column names various metrics that we might want. We want to split it into different tables for different metrics indexed on country name. For this initial project we chose GDP and population as the metrics we want to combine with the FWC data and we'll use the year 2014 since that's when the FWC article was released. "
   ]
  },
  {
   "cell_type": "code",
   "execution_count": 48,
   "metadata": {},
   "outputs": [
    {
     "data": {
      "text/plain": [
       "Index(['Series Name', 'Series Code', 'Country Name', 'Country Code',\n",
       "       '2000 [YR2000]', '2001 [YR2001]', '2002 [YR2002]', '2003 [YR2003]',\n",
       "       '2004 [YR2004]', '2005 [YR2005]', '2006 [YR2006]', '2007 [YR2007]',\n",
       "       '2008 [YR2008]', '2009 [YR2009]', '2010 [YR2010]', '2011 [YR2011]',\n",
       "       '2012 [YR2012]', '2013 [YR2013]', '2014 [YR2014]', '2015 [YR2015]'],\n",
       "      dtype='object')"
      ]
     },
     "execution_count": 48,
     "metadata": {},
     "output_type": "execute_result"
    }
   ],
   "source": [
    "worldbankdata.columns"
   ]
  },
  {
   "cell_type": "code",
   "execution_count": 49,
   "metadata": {},
   "outputs": [
    {
     "data": {
      "text/plain": [
       "Index(['Adolescent fertility rate (births per 1,000 women ages 15-19)',\n",
       "       'Agriculture, forestry, and fishing, value added (% of GDP)',\n",
       "       'Births attended by skilled health staff (% of total)',\n",
       "       'CO2 emissions (metric tons per capita)',\n",
       "       'Contraceptive prevalence, any methods (% of women ages 15-49)',\n",
       "       'Data from database: World Development Indicators',\n",
       "       'Electric power consumption (kWh per capita)',\n",
       "       'Energy use (kg of oil equivalent per capita)',\n",
       "       'Exports of goods and services (% of GDP)',\n",
       "       'External debt stocks, total (DOD, current US$)',\n",
       "       'Fertility rate, total (births per woman)',\n",
       "       'Foreign direct investment, net (BoP, current US$)',\n",
       "       'Foreign direct investment, net inflows (BoP, current US$)',\n",
       "       'Forest area (sq. km)', 'GDP (current US$)', 'GDP growth (annual %)',\n",
       "       'GDP per capita (current US$)',\n",
       "       'GNI per capita, Atlas method (current US$)',\n",
       "       'GNI per capita, PPP (current international $)',\n",
       "       'GNI, Atlas method (current US$)', 'GNI, PPP (current international $)',\n",
       "       'Gross capital formation (% of GDP)',\n",
       "       'High-technology exports (% of manufactured exports)',\n",
       "       'Immunization, measles (% of children ages 12-23 months)',\n",
       "       'Imports of goods and services (% of GDP)',\n",
       "       'Income share held by lowest 20%',\n",
       "       'Industry (including construction), value added (% of GDP)',\n",
       "       'Inflation, GDP deflator (annual %)',\n",
       "       'Inflation, consumer prices (annual %)', 'Last Updated: 08/18/2020',\n",
       "       'Life expectancy at birth, total (years)',\n",
       "       'Market capitalization of listed domestic companies (% of GDP)',\n",
       "       'Merchandise trade (% of GDP)', 'Military expenditure (% of GDP)',\n",
       "       'Mobile cellular subscriptions (per 100 people)',\n",
       "       'Mortality rate, under-5 (per 1,000 live births)',\n",
       "       'Net ODA received per capita (current US$)',\n",
       "       'Net barter terms of trade index (2000 = 100)', 'Net migration',\n",
       "       'Personal remittances, paid (current US$)',\n",
       "       'Population growth (annual %)', 'Population, total',\n",
       "       'Poverty headcount ratio at national poverty lines (% of population)',\n",
       "       'Prevalence of HIV, total (% of population ages 15-49)',\n",
       "       'Prevalence of underweight, weight for age (% of children under 5)',\n",
       "       'Primary completion rate, total (% of relevant age group)',\n",
       "       'Revenue, excluding grants (% of GDP)',\n",
       "       'School enrollment, primary and secondary (gross), gender parity index (GPI)',\n",
       "       'School enrollment, secondary (% gross)',\n",
       "       'Start-up procedures to register a business (number)',\n",
       "       'Surface area (sq. km)', 'Total debt service (% of GNI)',\n",
       "       'Water productivity, total (constant 2010 US$ GDP per cubic meter of total freshwater withdrawal)'],\n",
       "      dtype='object')"
      ]
     },
     "execution_count": 49,
     "metadata": {},
     "output_type": "execute_result"
    }
   ],
   "source": [
    "wbd2014 = worldbankdata.loc[:, ['Series Name', 'Country Name', '2014 [YR2014]']]\n",
    "wbd2014[\"Series Name\"].astype(\"category\").cat.categories"
   ]
  },
  {
   "cell_type": "code",
   "execution_count": 50,
   "metadata": {},
   "outputs": [],
   "source": [
    "wbdgdp = wbd2014[wbd2014['Series Name'] == 'GDP per capita (current US$)'].loc[:, ['Country Name', '2014 [YR2014]']]\n",
    "wbdpop = wbd2014[wbd2014['Series Name'] == 'Population, total'].loc[:, ['Country Name', '2014 [YR2014]']]\n",
    "\n",
    "wbdgdp = wbdgdp.set_index('Country Name')\n",
    "wbdpop = wbdpop.set_index('Country Name')\n",
    "\n",
    "wbdgdp = wbdgdp.rename(columns={'2014 [YR2014]': 'GDP per Capita'})\n",
    "wbdpop = wbdpop.rename(columns={'2014 [YR2014]': 'Total Population'})\n",
    "\n",
    "wbdfinal = pd.merge(wbdgdp, wbdpop, on='Country Name')"
   ]
  },
  {
   "cell_type": "markdown",
   "metadata": {},
   "source": [
    "So we now have 2 clean tables. To combine them, we take the mean of the ratings in the FWC data and join those to the World Bank metrics. We need to cut some columns from the FWC data to work only with Country Names. We start by looking at which columns there are. "
   ]
  },
  {
   "cell_type": "code",
   "execution_count": 51,
   "metadata": {},
   "outputs": [
    {
     "data": {
      "text/plain": [
       "Index(['RespondentID', 'Cuisine Knowledge', 'Cuisine Interest', 'Algeria',\n",
       "       'Argentina', 'Australia', 'Belgium', 'Bosnia and Herzegovina', 'Brazil',\n",
       "       'Cameroon', 'Chile', 'Colombia', 'Costa Rica', 'Croatia', 'Ecuador',\n",
       "       'England', 'France', 'Germany', 'Ghana', 'Greece', 'Honduras', 'Iran',\n",
       "       'Italy', 'Ivory Coast', 'Japan', 'Mexico', 'Netherlands', 'Nigeria',\n",
       "       'Portugal', 'Russia', 'South Korea', 'Spain', 'Switzerland',\n",
       "       'United States', 'Uruguay', 'China', 'India', 'Thailand', 'Turkey',\n",
       "       'Cuba', 'Ethiopia', 'Vietnam', 'Ireland', 'Gender', 'Age',\n",
       "       'Household Income', 'Education', 'Locations'],\n",
       "      dtype='object')"
      ]
     },
     "execution_count": 51,
     "metadata": {},
     "output_type": "execute_result"
    }
   ],
   "source": [
    "foodwc.columns"
   ]
  },
  {
   "cell_type": "markdown",
   "metadata": {},
   "source": [
    "We then cut non-country names from the DataFrame and then find the mean before formatting the data so it joins cleanly with the cleaned up World Bank Data. "
   ]
  },
  {
   "cell_type": "code",
   "execution_count": 52,
   "metadata": {},
   "outputs": [],
   "source": [
    "foodwc2 = foodwc.iloc[:, 3:-5]\n",
    "foodwc3 = foodwc2.mean()\n",
    "foodwc4 = pd.DataFrame({'Country Name':foodwc3.index, 'Average Rating':foodwc3.values})"
   ]
  },
  {
   "cell_type": "markdown",
   "metadata": {},
   "source": [
    "We now have the final table relating the average cuisine rating with the GDP per capita and population of the countries."
   ]
  },
  {
   "cell_type": "code",
   "execution_count": 53,
   "metadata": {
    "scrolled": true
   },
   "outputs": [
    {
     "data": {
      "text/html": [
       "<div>\n",
       "<style scoped>\n",
       "    .dataframe tbody tr th:only-of-type {\n",
       "        vertical-align: middle;\n",
       "    }\n",
       "\n",
       "    .dataframe tbody tr th {\n",
       "        vertical-align: top;\n",
       "    }\n",
       "\n",
       "    .dataframe thead th {\n",
       "        text-align: right;\n",
       "    }\n",
       "</style>\n",
       "<table border=\"1\" class=\"dataframe\">\n",
       "  <thead>\n",
       "    <tr style=\"text-align: right;\">\n",
       "      <th></th>\n",
       "      <th>Country Name</th>\n",
       "      <th>Average Rating</th>\n",
       "      <th>GDP per Capita</th>\n",
       "      <th>Total Population</th>\n",
       "    </tr>\n",
       "  </thead>\n",
       "  <tbody>\n",
       "    <tr>\n",
       "      <th>0</th>\n",
       "      <td>Algeria</td>\n",
       "      <td>3.333333</td>\n",
       "      <td>5493.02558996263</td>\n",
       "      <td>38923687</td>\n",
       "    </tr>\n",
       "    <tr>\n",
       "      <th>1</th>\n",
       "      <td>Argentina</td>\n",
       "      <td>3.558140</td>\n",
       "      <td>12334.7982453893</td>\n",
       "      <td>42669500</td>\n",
       "    </tr>\n",
       "    <tr>\n",
       "      <th>2</th>\n",
       "      <td>Australia</td>\n",
       "      <td>3.196429</td>\n",
       "      <td>62510.7911705641</td>\n",
       "      <td>23475686</td>\n",
       "    </tr>\n",
       "    <tr>\n",
       "      <th>3</th>\n",
       "      <td>Belgium</td>\n",
       "      <td>3.543478</td>\n",
       "      <td>47700.5403601178</td>\n",
       "      <td>11209057</td>\n",
       "    </tr>\n",
       "    <tr>\n",
       "      <th>4</th>\n",
       "      <td>Bosnia and Herzegovina</td>\n",
       "      <td>3.153846</td>\n",
       "      <td>5329.63504488766</td>\n",
       "      <td>3482104</td>\n",
       "    </tr>\n",
       "    <tr>\n",
       "      <th>5</th>\n",
       "      <td>Brazil</td>\n",
       "      <td>3.644068</td>\n",
       "      <td>12112.5882059697</td>\n",
       "      <td>202763735</td>\n",
       "    </tr>\n",
       "    <tr>\n",
       "      <th>6</th>\n",
       "      <td>Cameroon</td>\n",
       "      <td>3.400000</td>\n",
       "      <td>1542.62026621531</td>\n",
       "      <td>22681858</td>\n",
       "    </tr>\n",
       "    <tr>\n",
       "      <th>7</th>\n",
       "      <td>Chile</td>\n",
       "      <td>3.475000</td>\n",
       "      <td>14670.996760602</td>\n",
       "      <td>17758959</td>\n",
       "    </tr>\n",
       "    <tr>\n",
       "      <th>8</th>\n",
       "      <td>Colombia</td>\n",
       "      <td>3.250000</td>\n",
       "      <td>8114.08406910545</td>\n",
       "      <td>46969209</td>\n",
       "    </tr>\n",
       "    <tr>\n",
       "      <th>9</th>\n",
       "      <td>Costa Rica</td>\n",
       "      <td>3.568182</td>\n",
       "      <td>10547.1518593556</td>\n",
       "      <td>4795396</td>\n",
       "    </tr>\n",
       "    <tr>\n",
       "      <th>10</th>\n",
       "      <td>Croatia</td>\n",
       "      <td>3.250000</td>\n",
       "      <td>13600.194390748</td>\n",
       "      <td>4238389</td>\n",
       "    </tr>\n",
       "    <tr>\n",
       "      <th>11</th>\n",
       "      <td>Ecuador</td>\n",
       "      <td>3.444444</td>\n",
       "      <td>6377.09153014217</td>\n",
       "      <td>15951838</td>\n",
       "    </tr>\n",
       "    <tr>\n",
       "      <th>12</th>\n",
       "      <td>France</td>\n",
       "      <td>3.719298</td>\n",
       "      <td>43011.2631028417</td>\n",
       "      <td>66312067</td>\n",
       "    </tr>\n",
       "    <tr>\n",
       "      <th>13</th>\n",
       "      <td>Germany</td>\n",
       "      <td>3.373913</td>\n",
       "      <td>47959.9932737599</td>\n",
       "      <td>80982500</td>\n",
       "    </tr>\n",
       "    <tr>\n",
       "      <th>14</th>\n",
       "      <td>Ghana</td>\n",
       "      <td>3.384615</td>\n",
       "      <td>1971.03334675411</td>\n",
       "      <td>27224472</td>\n",
       "    </tr>\n",
       "    <tr>\n",
       "      <th>15</th>\n",
       "      <td>Greece</td>\n",
       "      <td>3.691589</td>\n",
       "      <td>21760.9797994918</td>\n",
       "      <td>10892413</td>\n",
       "    </tr>\n",
       "    <tr>\n",
       "      <th>16</th>\n",
       "      <td>Honduras</td>\n",
       "      <td>3.192308</td>\n",
       "      <td>2206.05193412773</td>\n",
       "      <td>8955589</td>\n",
       "    </tr>\n",
       "    <tr>\n",
       "      <th>17</th>\n",
       "      <td>Italy</td>\n",
       "      <td>4.314961</td>\n",
       "      <td>35518.4152916749</td>\n",
       "      <td>60789140</td>\n",
       "    </tr>\n",
       "    <tr>\n",
       "      <th>18</th>\n",
       "      <td>Japan</td>\n",
       "      <td>3.686957</td>\n",
       "      <td>38109.4121125573</td>\n",
       "      <td>127276000</td>\n",
       "    </tr>\n",
       "    <tr>\n",
       "      <th>19</th>\n",
       "      <td>Mexico</td>\n",
       "      <td>3.992188</td>\n",
       "      <td>10922.3760488647</td>\n",
       "      <td>120355128</td>\n",
       "    </tr>\n",
       "    <tr>\n",
       "      <th>20</th>\n",
       "      <td>Netherlands</td>\n",
       "      <td>3.605263</td>\n",
       "      <td>52830.1742328055</td>\n",
       "      <td>16865008</td>\n",
       "    </tr>\n",
       "    <tr>\n",
       "      <th>21</th>\n",
       "      <td>Nigeria</td>\n",
       "      <td>2.888889</td>\n",
       "      <td>3222.69353725587</td>\n",
       "      <td>176404902</td>\n",
       "    </tr>\n",
       "    <tr>\n",
       "      <th>22</th>\n",
       "      <td>Portugal</td>\n",
       "      <td>3.386364</td>\n",
       "      <td>22074.3007634216</td>\n",
       "      <td>10401062</td>\n",
       "    </tr>\n",
       "    <tr>\n",
       "      <th>23</th>\n",
       "      <td>Spain</td>\n",
       "      <td>3.737374</td>\n",
       "      <td>29461.5503337389</td>\n",
       "      <td>46480882</td>\n",
       "    </tr>\n",
       "    <tr>\n",
       "      <th>24</th>\n",
       "      <td>Switzerland</td>\n",
       "      <td>3.283019</td>\n",
       "      <td>86605.5633762421</td>\n",
       "      <td>8188649</td>\n",
       "    </tr>\n",
       "    <tr>\n",
       "      <th>25</th>\n",
       "      <td>United States</td>\n",
       "      <td>3.814815</td>\n",
       "      <td>55047.7255604544</td>\n",
       "      <td>318301008</td>\n",
       "    </tr>\n",
       "    <tr>\n",
       "      <th>26</th>\n",
       "      <td>Uruguay</td>\n",
       "      <td>2.950000</td>\n",
       "      <td>16831.9729440778</td>\n",
       "      <td>3400434</td>\n",
       "    </tr>\n",
       "    <tr>\n",
       "      <th>27</th>\n",
       "      <td>China</td>\n",
       "      <td>3.719008</td>\n",
       "      <td>7678.599431661</td>\n",
       "      <td>1364270000</td>\n",
       "    </tr>\n",
       "    <tr>\n",
       "      <th>28</th>\n",
       "      <td>India</td>\n",
       "      <td>3.359649</td>\n",
       "      <td>1573.88149211052</td>\n",
       "      <td>1295604184</td>\n",
       "    </tr>\n",
       "    <tr>\n",
       "      <th>29</th>\n",
       "      <td>Thailand</td>\n",
       "      <td>3.764706</td>\n",
       "      <td>5951.88370233604</td>\n",
       "      <td>68438730</td>\n",
       "    </tr>\n",
       "    <tr>\n",
       "      <th>30</th>\n",
       "      <td>Turkey</td>\n",
       "      <td>3.575000</td>\n",
       "      <td>12095.8545718135</td>\n",
       "      <td>77231907</td>\n",
       "    </tr>\n",
       "    <tr>\n",
       "      <th>31</th>\n",
       "      <td>Cuba</td>\n",
       "      <td>3.454545</td>\n",
       "      <td>7133.34209494342</td>\n",
       "      <td>11306902</td>\n",
       "    </tr>\n",
       "    <tr>\n",
       "      <th>32</th>\n",
       "      <td>Ethiopia</td>\n",
       "      <td>3.588235</td>\n",
       "      <td>566.926466461984</td>\n",
       "      <td>98094253</td>\n",
       "    </tr>\n",
       "    <tr>\n",
       "      <th>33</th>\n",
       "      <td>Vietnam</td>\n",
       "      <td>3.456790</td>\n",
       "      <td>2030.26195473318</td>\n",
       "      <td>91714595</td>\n",
       "    </tr>\n",
       "    <tr>\n",
       "      <th>34</th>\n",
       "      <td>Ireland</td>\n",
       "      <td>3.234043</td>\n",
       "      <td>55492.982676213</td>\n",
       "      <td>4657740</td>\n",
       "    </tr>\n",
       "  </tbody>\n",
       "</table>\n",
       "</div>"
      ],
      "text/plain": [
       "              Country Name  Average Rating    GDP per Capita Total Population\n",
       "0                  Algeria        3.333333  5493.02558996263         38923687\n",
       "1                Argentina        3.558140  12334.7982453893         42669500\n",
       "2                Australia        3.196429  62510.7911705641         23475686\n",
       "3                  Belgium        3.543478  47700.5403601178         11209057\n",
       "4   Bosnia and Herzegovina        3.153846  5329.63504488766          3482104\n",
       "5                   Brazil        3.644068  12112.5882059697        202763735\n",
       "6                 Cameroon        3.400000  1542.62026621531         22681858\n",
       "7                    Chile        3.475000   14670.996760602         17758959\n",
       "8                 Colombia        3.250000  8114.08406910545         46969209\n",
       "9               Costa Rica        3.568182  10547.1518593556          4795396\n",
       "10                 Croatia        3.250000   13600.194390748          4238389\n",
       "11                 Ecuador        3.444444  6377.09153014217         15951838\n",
       "12                  France        3.719298  43011.2631028417         66312067\n",
       "13                 Germany        3.373913  47959.9932737599         80982500\n",
       "14                   Ghana        3.384615  1971.03334675411         27224472\n",
       "15                  Greece        3.691589  21760.9797994918         10892413\n",
       "16                Honduras        3.192308  2206.05193412773          8955589\n",
       "17                   Italy        4.314961  35518.4152916749         60789140\n",
       "18                   Japan        3.686957  38109.4121125573        127276000\n",
       "19                  Mexico        3.992188  10922.3760488647        120355128\n",
       "20             Netherlands        3.605263  52830.1742328055         16865008\n",
       "21                 Nigeria        2.888889  3222.69353725587        176404902\n",
       "22                Portugal        3.386364  22074.3007634216         10401062\n",
       "23                   Spain        3.737374  29461.5503337389         46480882\n",
       "24             Switzerland        3.283019  86605.5633762421          8188649\n",
       "25           United States        3.814815  55047.7255604544        318301008\n",
       "26                 Uruguay        2.950000  16831.9729440778          3400434\n",
       "27                   China        3.719008    7678.599431661       1364270000\n",
       "28                   India        3.359649  1573.88149211052       1295604184\n",
       "29                Thailand        3.764706  5951.88370233604         68438730\n",
       "30                  Turkey        3.575000  12095.8545718135         77231907\n",
       "31                    Cuba        3.454545  7133.34209494342         11306902\n",
       "32                Ethiopia        3.588235  566.926466461984         98094253\n",
       "33                 Vietnam        3.456790  2030.26195473318         91714595\n",
       "34                 Ireland        3.234043   55492.982676213          4657740"
      ]
     },
     "execution_count": 53,
     "metadata": {},
     "output_type": "execute_result"
    }
   ],
   "source": [
    "final_table = pd.merge(foodwc4, wbdfinal, on='Country Name')\n",
    "final_table"
   ]
  },
  {
   "cell_type": "markdown",
   "metadata": {},
   "source": [
    "From this final table of data, we could look for correlations between Ratings and GDP per capita or population. "
   ]
  }
 ],
 "metadata": {
  "kernelspec": {
   "display_name": "Python 3",
   "language": "python",
   "name": "python3"
  },
  "language_info": {
   "codemirror_mode": {
    "name": "ipython",
    "version": 3
   },
   "file_extension": ".py",
   "mimetype": "text/x-python",
   "name": "python",
   "nbconvert_exporter": "python",
   "pygments_lexer": "ipython3",
   "version": "3.8.5"
  }
 },
 "nbformat": 4,
 "nbformat_minor": 4
}
